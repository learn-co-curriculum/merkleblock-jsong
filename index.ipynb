{
 "cells": [
  {
   "cell_type": "markdown",
   "metadata": {},
   "source": [
    "# Merkleblock\n",
    "\n",
    "## Test Driven Exercise"
   ]
  },
  {
   "cell_type": "code",
   "execution_count": null,
   "metadata": {},
   "outputs": [],
   "source": [
    "# Exercise 3.1\n",
    "\n",
    "from merkleblock import MerkleBlock, MerkleTree\n",
    "from io import BytesIO\n",
    "from helper import bytes_to_bit_field\n",
    "\n",
    "class MerkleBlock(MerkleBlock):\n",
    "\n",
    "    def is_valid(self):\n",
    "        '''Verifies whether the merkle tree information validates to the merkle root'''\n",
    "        # use bytes_to_bit_field on self.flags to get the flag_bits\n",
    "        # set hashes to be the reversed hashes of everything in self.hashes\n",
    "        # initialize the merkle tree with self.total\n",
    "        # populate_tree with flag_bits and hashes\n",
    "        # check if the computed root [::-1] is the same as the merkle root\n",
    "        pass"
   ]
  }
 ],
 "metadata": {
  "kernelspec": {
   "display_name": "Python 3",
   "language": "python",
   "name": "python3"
  },
  "language_info": {
   "codemirror_mode": {
    "name": "ipython",
    "version": 3
   },
   "file_extension": ".py",
   "mimetype": "text/x-python",
   "name": "python",
   "nbconvert_exporter": "python",
   "pygments_lexer": "ipython3",
   "version": "3.6.5"
  }
 },
 "nbformat": 4,
 "nbformat_minor": 2
}
